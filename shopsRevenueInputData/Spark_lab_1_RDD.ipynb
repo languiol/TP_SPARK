{
 "cells": [
  {
   "cell_type": "markdown",
   "metadata": {},
   "source": [
    " # LAB 1 Spark RDD#"
   ]
  },
  {
   "cell_type": "markdown",
   "metadata": {},
   "source": [
    "## 1. RDD CREATION"
   ]
  },
  {
   "cell_type": "markdown",
   "metadata": {},
   "source": [
    "### 1.1 Extract link from repository \n",
    "\n",
    "\n",
    "Given the repository \"input1\" which contains all the files, we build a list that contains all the files names. These latter will be useful to build our dataframe since we need the name of each City and the ID of each store."
   ]
  },
  {
   "cell_type": "code",
   "execution_count": 72,
   "metadata": {
    "collapsed": false
   },
   "outputs": [
    {
     "data": {
      "text/plain": [
       "['input1/anger.txt',\n",
       " 'input1/lyon.txt',\n",
       " 'input1/marseilles_1.txt',\n",
       " 'input1/marseilles_2.txt',\n",
       " 'input1/nantes.txt',\n",
       " 'input1/nice.txt',\n",
       " 'input1/orlean.txt',\n",
       " 'input1/paris_1.txt',\n",
       " 'input1/paris_2.txt',\n",
       " 'input1/paris_3.txt',\n",
       " 'input1/rennes.txt',\n",
       " 'input1/toulouse.txt',\n",
       " 'input1/troyes.txt']"
      ]
     },
     "execution_count": 72,
     "metadata": {},
     "output_type": "execute_result"
    }
   ],
   "source": [
    "mypath = 'input1/'\n",
    "from os import listdir\n",
    "from os.path import isfile, join\n",
    "files = [f for f in listdir(mypath) if isfile(join(mypath, f))]\n",
    "link = [mypath+f for f in files]\n",
    "link"
   ]
  },
  {
   "cell_type": "markdown",
   "metadata": {},
   "source": [
    "### 1.2 Extract City and ID from link\n",
    "\n",
    "In this section, we made a function that takes a link to a file as input and return the correspending City and Store ID.\n",
    "The store ID is the name of the city and the number of the store, if the city has only one store, we shall take City_1 as Store ID."
   ]
  },
  {
   "cell_type": "code",
   "execution_count": 73,
   "metadata": {
    "collapsed": true
   },
   "outputs": [],
   "source": [
    "from pyspark.sql import Row\n",
    "\n",
    "def extractStore(link):\n",
    "  ## Function that compute the name of the city and its ID given the link \n",
    "  x = link.split('/')\n",
    "  y = x[len(x)-1].split('.')[0] \n",
    "  z = y.split('_')\n",
    "  if (len(z)>1):\n",
    "    return x[len(x)-1].split('.')[0]\n",
    "  else:\n",
    "    City = y.split('_')[0]\n",
    "    return City+'_1'\n",
    "\n",
    "\n",
    "def extractCity(link):\n",
    "  ## Function that compute the name of the city and its ID given the link \n",
    "  x = link.split('/')\n",
    "  y = x[len(x)-1].split('.')[0] \n",
    "  z = y.split('_')\n",
    "  return y.split('_')[0]"
   ]
  },
  {
   "cell_type": "markdown",
   "metadata": {},
   "source": [
    "### 1.3 Create the data Frame \n",
    "\n",
    "To create the dataframe, we proceed by creating an RDD that contains the requested Rows and then, using an sqlContext, we create our dataframe passing the RDD as input.\n",
    "\n",
    "To do so, we start by intializing four lists. The first one "
   ]
  },
  {
   "cell_type": "code",
   "execution_count": 74,
   "metadata": {
    "collapsed": false
   },
   "outputs": [
    {
     "data": {
      "text/plain": [
       "[('anger_1', 'JAN', '13', 'anger'),\n",
       " ('anger_1', 'FEB', '12', 'anger'),\n",
       " ('anger_1', 'MAR', '14', 'anger'),\n",
       " ('anger_1', 'APR', '15', 'anger'),\n",
       " ('anger_1', 'MAY', '12', 'anger'),\n",
       " ('anger_1', 'JUN', '15', 'anger'),\n",
       " ('anger_1', 'JUL', '19', 'anger'),\n",
       " ('anger_1', 'AUG', '15', 'anger'),\n",
       " ('anger_1', 'SEP', '13', 'anger'),\n",
       " ('anger_1', 'OCT', '8', 'anger'),\n",
       " ('anger_1', 'NOV', '14', 'anger'),\n",
       " ('anger_1', 'DEC', '16', 'anger'),\n",
       " ('lyon_1', 'JAN', '13', 'lyon'),\n",
       " ('lyon_1', 'FEB', '12', 'lyon'),\n",
       " ('lyon_1', 'MAR', '14', 'lyon'),\n",
       " ('lyon_1', 'APR', '15', 'lyon'),\n",
       " ('lyon_1', 'MAY', '12', 'lyon'),\n",
       " ('lyon_1', 'JUN', '15', 'lyon'),\n",
       " ('lyon_1', 'JUL', '19', 'lyon'),\n",
       " ('lyon_1', 'AUG', '25', 'lyon'),\n",
       " ('lyon_1', 'SEP', '13', 'lyon'),\n",
       " ('lyon_1', 'OCT', '11', 'lyon'),\n",
       " ('lyon_1', 'NOV', '22', 'lyon'),\n",
       " ('lyon_1', 'DEC', '22', 'lyon'),\n",
       " ('marseilles_1', 'JAN', '21', 'marseilles'),\n",
       " ('marseilles_1', 'FEB', '21', 'marseilles'),\n",
       " ('marseilles_1', 'MAR', '21', 'marseilles'),\n",
       " ('marseilles_1', 'APR', '27', 'marseilles'),\n",
       " ('marseilles_1', 'MAY', '25', 'marseilles'),\n",
       " ('marseilles_1', 'JUN', '25', 'marseilles'),\n",
       " ('marseilles_1', 'JUL', '21', 'marseilles'),\n",
       " ('marseilles_1', 'AUG', '22', 'marseilles'),\n",
       " ('marseilles_1', 'SEP', '23', 'marseilles'),\n",
       " ('marseilles_1', 'OCT', '28', 'marseilles'),\n",
       " ('marseilles_1', 'NOV', '24', 'marseilles'),\n",
       " ('marseilles_1', 'DEC', '26', 'marseilles'),\n",
       " ('marseilles_2', 'JAN', '11', 'marseilles'),\n",
       " ('marseilles_2', 'FEB', '11', 'marseilles'),\n",
       " ('marseilles_2', 'MAR', '11', 'marseilles'),\n",
       " ('marseilles_2', 'APR', '17', 'marseilles'),\n",
       " ('marseilles_2', 'MAY', '12', 'marseilles'),\n",
       " ('marseilles_2', 'JUN', '25', 'marseilles'),\n",
       " ('marseilles_2', 'JUL', '21', 'marseilles'),\n",
       " ('marseilles_2', 'AUG', '22', 'marseilles'),\n",
       " ('marseilles_2', 'SEP', '23', 'marseilles'),\n",
       " ('marseilles_2', 'OCT', '28', 'marseilles'),\n",
       " ('marseilles_2', 'NOV', '24', 'marseilles'),\n",
       " ('marseilles_2', 'DEC', '26', 'marseilles'),\n",
       " ('nantes_1', 'JAN', '16', 'nantes'),\n",
       " ('nantes_1', 'FEB', '15', 'nantes'),\n",
       " ('nantes_1', 'MAR', '20', 'nantes'),\n",
       " ('nantes_1', 'APR', '12', 'nantes'),\n",
       " ('nantes_1', 'MAY', '21', 'nantes'),\n",
       " ('nantes_1', 'JUN', '28', 'nantes'),\n",
       " ('nantes_1', 'JUL', '19', 'nantes'),\n",
       " ('nantes_1', 'AUG', '11', 'nantes'),\n",
       " ('nantes_1', 'SEP', '13', 'nantes'),\n",
       " ('nantes_1', 'OCT', '14', 'nantes'),\n",
       " ('nantes_1', 'NOV', '14', 'nantes'),\n",
       " ('nantes_1', 'DEC', '24', 'nantes'),\n",
       " ('nice_1', 'JAN', '16', 'nice'),\n",
       " ('nice_1', 'FEB', '15', 'nice'),\n",
       " ('nice_1', 'MAR', '20', 'nice'),\n",
       " ('nice_1', 'APR', '9', 'nice'),\n",
       " ('nice_1', 'MAY', '11', 'nice'),\n",
       " ('nice_1', 'JUN', '18', 'nice'),\n",
       " ('nice_1', 'JUL', '19', 'nice'),\n",
       " ('nice_1', 'AUG', '11', 'nice'),\n",
       " ('nice_1', 'SEP', '23', 'nice'),\n",
       " ('nice_1', 'OCT', '18', 'nice'),\n",
       " ('nice_1', 'NOV', '14', 'nice'),\n",
       " ('nice_1', 'DEC', '29', 'nice'),\n",
       " ('orlean_1', 'JAN', '13', 'orlean'),\n",
       " ('orlean_1', 'FEB', '12', 'orlean'),\n",
       " ('orlean_1', 'MAR', '14', 'orlean'),\n",
       " ('orlean_1', 'APR', '15', 'orlean'),\n",
       " ('orlean_1', 'MAY', '12', 'orlean'),\n",
       " ('orlean_1', 'JUN', '15', 'orlean'),\n",
       " ('orlean_1', 'JUL', '19', 'orlean'),\n",
       " ('orlean_1', 'AUG', '25', 'orlean'),\n",
       " ('orlean_1', 'SEP', '13', 'orlean'),\n",
       " ('orlean_1', 'OCT', '8', 'orlean'),\n",
       " ('orlean_1', 'NOV', '24', 'orlean'),\n",
       " ('orlean_1', 'DEC', '26', 'orlean'),\n",
       " ('paris_1', 'JAN', '51', 'paris'),\n",
       " ('paris_1', 'FEB', '21', 'paris'),\n",
       " ('paris_1', 'MAR', '11', 'paris'),\n",
       " ('paris_1', 'APR', '57', 'paris'),\n",
       " ('paris_1', 'MAY', '55', 'paris'),\n",
       " ('paris_1', 'JUN', '55', 'paris'),\n",
       " ('paris_1', 'JUL', '61', 'paris'),\n",
       " ('paris_1', 'AUG', '42', 'paris'),\n",
       " ('paris_1', 'SEP', '43', 'paris'),\n",
       " ('paris_1', 'OCT', '68', 'paris'),\n",
       " ('paris_1', 'NOV', '61', 'paris'),\n",
       " ('paris_1', 'DEC', '71', 'paris'),\n",
       " ('paris_2', 'JAN', '43', 'paris'),\n",
       " ('paris_2', 'FEB', '42', 'paris'),\n",
       " ('paris_2', 'MAR', '44', 'paris'),\n",
       " ('paris_2', 'APR', '35', 'paris'),\n",
       " ('paris_2', 'MAY', '72', 'paris'),\n",
       " ('paris_2', 'JUN', '85', 'paris'),\n",
       " ('paris_2', 'JUL', '19', 'paris'),\n",
       " ('paris_2', 'AUG', '45', 'paris'),\n",
       " ('paris_2', 'SEP', '63', 'paris'),\n",
       " ('paris_2', 'OCT', '64', 'paris'),\n",
       " ('paris_2', 'NOV', '64', 'paris'),\n",
       " ('paris_2', 'DEC', '66', 'paris'),\n",
       " ('paris_3', 'JAN', '21', 'paris'),\n",
       " ('paris_3', 'FEB', '36', 'paris'),\n",
       " ('paris_3', 'MAR', '24', 'paris'),\n",
       " ('paris_3', 'APR', '24', 'paris'),\n",
       " ('paris_3', 'MAY', '23', 'paris'),\n",
       " ('paris_3', 'JUN', '25', 'paris'),\n",
       " ('paris_3', 'JUL', '21', 'paris'),\n",
       " ('paris_3', 'AUG', '38', 'paris'),\n",
       " ('paris_3', 'SEP', '38', 'paris'),\n",
       " ('paris_3', 'OCT', '38', 'paris'),\n",
       " ('paris_3', 'NOV', '21', 'paris'),\n",
       " ('paris_3', 'DEC', '21', 'paris'),\n",
       " ('rennes_1', 'JAN', '19', 'rennes'),\n",
       " ('rennes_1', 'FEB', '18', 'rennes'),\n",
       " ('rennes_1', 'MAR', '10', 'rennes'),\n",
       " ('rennes_1', 'APR', '9', 'rennes'),\n",
       " ('rennes_1', 'MAY', '11', 'rennes'),\n",
       " ('rennes_1', 'JUN', '13', 'rennes'),\n",
       " ('rennes_1', 'JUL', '14', 'rennes'),\n",
       " ('rennes_1', 'AUG', '11', 'rennes'),\n",
       " ('rennes_1', 'SEP', '23', 'rennes'),\n",
       " ('rennes_1', 'OCT', '18', 'rennes'),\n",
       " ('rennes_1', 'NOV', '14', 'rennes'),\n",
       " ('rennes_1', 'DEC', '20', 'rennes'),\n",
       " ('toulouse_1', 'JAN', '12', 'toulouse'),\n",
       " ('toulouse_1', 'FEB', '13', 'toulouse'),\n",
       " ('toulouse_1', 'MAR', '14', 'toulouse'),\n",
       " ('toulouse_1', 'APR', '11', 'toulouse'),\n",
       " ('toulouse_1', 'MAY', '11', 'toulouse'),\n",
       " ('toulouse_1', 'JUN', '18', 'toulouse'),\n",
       " ('toulouse_1', 'JUL', '19', 'toulouse'),\n",
       " ('toulouse_1', 'AUG', '11', 'toulouse'),\n",
       " ('toulouse_1', 'SEP', '23', 'toulouse'),\n",
       " ('toulouse_1', 'OCT', '14', 'toulouse'),\n",
       " ('toulouse_1', 'NOV', '12', 'toulouse'),\n",
       " ('toulouse_1', 'DEC', '19', 'toulouse'),\n",
       " ('troyes_1', 'JAN', '21', 'troyes'),\n",
       " ('troyes_1', 'FEB', '21', 'troyes'),\n",
       " ('troyes_1', 'MAR', '11', 'troyes'),\n",
       " ('troyes_1', 'APR', '17', 'troyes'),\n",
       " ('troyes_1', 'MAY', '15', 'troyes'),\n",
       " ('troyes_1', 'JUN', '25', 'troyes'),\n",
       " ('troyes_1', 'JUL', '11', 'troyes'),\n",
       " ('troyes_1', 'AUG', '22', 'troyes'),\n",
       " ('troyes_1', 'SEP', '21', 'troyes'),\n",
       " ('troyes_1', 'OCT', '28', 'troyes'),\n",
       " ('troyes_1', 'NOV', '11', 'troyes'),\n",
       " ('troyes_1', 'DEC', '11', 'troyes')]"
      ]
     },
     "execution_count": 74,
     "metadata": {},
     "output_type": "execute_result"
    }
   ],
   "source": [
    "\n",
    "store = extractStore(link[0])\n",
    "city = extractCity(link[0])\n",
    "raw_data = sc.textFile(link[0])\n",
    "data = raw_data.map(lambda line: line.split(\" \"))\n",
    "rdd = data.map(lambda tokens: (store,tokens[0],tokens[1],city)).cache()\n",
    "\n",
    "  \n",
    "for i in range(1,13):\n",
    "  store = extractStore(link[i])\n",
    "  city = extractCity(link[i])\n",
    "\n",
    "  raw_data = sc.textFile(link[i])\n",
    "  data = raw_data.map(lambda line: line.split(\" \"))\n",
    "  sm = data.map(lambda tokens: (store,tokens[0],tokens[1],city)).cache()\n",
    "  rdd = rdd.union(sm)\n",
    "\n",
    "rdd.collect()"
   ]
  },
  {
   "cell_type": "markdown",
   "metadata": {},
   "source": [
    "## 2. STATISTICS ON THE SHOP'S PERFORMANCE"
   ]
  },
  {
   "cell_type": "markdown",
   "metadata": {},
   "source": [
    "### 2.1 Average monthly income of the shop in France"
   ]
  },
  {
   "cell_type": "code",
   "execution_count": 75,
   "metadata": {
    "collapsed": false
   },
   "outputs": [
    {
     "data": {
      "text/plain": [
       "[('MAR', 17.53846153846154),\n",
       " ('SEP', 25.53846153846154),\n",
       " ('JUN', 27.846153846153847),\n",
       " ('FEB', 19.153846153846153),\n",
       " ('OCT', 26.53846153846154),\n",
       " ('JUL', 21.692307692307693),\n",
       " ('MAY', 22.46153846153846),\n",
       " ('NOV', 24.53846153846154),\n",
       " ('AUG', 23.076923076923077),\n",
       " ('JAN', 20.76923076923077),\n",
       " ('DEC', 29.0),\n",
       " ('APR', 20.23076923076923)]"
      ]
     },
     "execution_count": 75,
     "metadata": {},
     "output_type": "execute_result"
    }
   ],
   "source": [
    "#Average monthly income of the shop in France\n",
    "amsf = (rdd\n",
    "        .map(lambda x : (x[1] , float(x[2])))\n",
    "        .aggregateByKey((0,0), lambda a,b: (a[0] + b,a[1] + 1), lambda a,b: (a[0] + b[0], a[1] + b[1]))\n",
    "        .mapValues(lambda x : (x[0] , float(x[1])))\n",
    "        .mapValues(lambda x : x[0]/x[1] )\n",
    "       )\n",
    "        \n",
    "amsf.collect()"
   ]
  },
  {
   "cell_type": "markdown",
   "metadata": {},
   "source": [
    "### 2.2 Average monthly income of the shop in each city"
   ]
  },
  {
   "cell_type": "code",
   "execution_count": 82,
   "metadata": {
    "collapsed": false
   },
   "outputs": [
    {
     "data": {
      "text/plain": [
       "[(('SEP', 'troyes'), 21.0),\n",
       " (('SEP', 'toulouse'), 23.0),\n",
       " (('SEP', 'rennes'), 23.0),\n",
       " (('SEP', 'paris'), 48.0),\n",
       " (('SEP', 'orlean'), 13.0),\n",
       " (('SEP', 'nice'), 23.0),\n",
       " (('SEP', 'nantes'), 13.0),\n",
       " (('SEP', 'marseilles'), 23.0),\n",
       " (('SEP', 'lyon'), 13.0),\n",
       " (('SEP', 'anger'), 13.0),\n",
       " (('OCT', 'troyes'), 28.0),\n",
       " (('OCT', 'toulouse'), 14.0),\n",
       " (('OCT', 'rennes'), 18.0),\n",
       " (('OCT', 'paris'), 56.666666666666664),\n",
       " (('OCT', 'orlean'), 8.0),\n",
       " (('OCT', 'nice'), 18.0),\n",
       " (('OCT', 'nantes'), 14.0),\n",
       " (('OCT', 'marseilles'), 28.0),\n",
       " (('OCT', 'lyon'), 11.0),\n",
       " (('OCT', 'anger'), 8.0),\n",
       " (('NOV', 'troyes'), 11.0),\n",
       " (('NOV', 'toulouse'), 12.0),\n",
       " (('NOV', 'rennes'), 14.0),\n",
       " (('NOV', 'paris'), 48.666666666666664),\n",
       " (('NOV', 'orlean'), 24.0),\n",
       " (('NOV', 'nice'), 14.0),\n",
       " (('NOV', 'nantes'), 14.0),\n",
       " (('NOV', 'marseilles'), 24.0),\n",
       " (('NOV', 'lyon'), 22.0),\n",
       " (('NOV', 'anger'), 14.0),\n",
       " (('MAY', 'troyes'), 15.0),\n",
       " (('MAY', 'toulouse'), 11.0),\n",
       " (('MAY', 'rennes'), 11.0),\n",
       " (('MAY', 'paris'), 50.0),\n",
       " (('MAY', 'orlean'), 12.0),\n",
       " (('MAY', 'nice'), 11.0),\n",
       " (('MAY', 'nantes'), 21.0),\n",
       " (('MAY', 'marseilles'), 18.5),\n",
       " (('MAY', 'lyon'), 12.0),\n",
       " (('MAY', 'anger'), 12.0),\n",
       " (('MAR', 'troyes'), 11.0),\n",
       " (('MAR', 'toulouse'), 14.0),\n",
       " (('MAR', 'rennes'), 10.0),\n",
       " (('MAR', 'paris'), 26.333333333333332),\n",
       " (('MAR', 'orlean'), 14.0),\n",
       " (('MAR', 'nice'), 20.0),\n",
       " (('MAR', 'nantes'), 20.0),\n",
       " (('MAR', 'marseilles'), 16.0),\n",
       " (('MAR', 'lyon'), 14.0),\n",
       " (('MAR', 'anger'), 14.0),\n",
       " (('JUN', 'troyes'), 25.0),\n",
       " (('JUN', 'toulouse'), 18.0),\n",
       " (('JUN', 'rennes'), 13.0),\n",
       " (('JUN', 'paris'), 55.0),\n",
       " (('JUN', 'orlean'), 15.0),\n",
       " (('JUN', 'nice'), 18.0),\n",
       " (('JUN', 'nantes'), 28.0),\n",
       " (('JUN', 'marseilles'), 25.0),\n",
       " (('JUN', 'lyon'), 15.0),\n",
       " (('JUN', 'anger'), 15.0),\n",
       " (('JUL', 'troyes'), 11.0),\n",
       " (('JUL', 'toulouse'), 19.0),\n",
       " (('JUL', 'rennes'), 14.0),\n",
       " (('JUL', 'paris'), 33.666666666666664),\n",
       " (('JUL', 'orlean'), 19.0),\n",
       " (('JUL', 'nice'), 19.0),\n",
       " (('JUL', 'nantes'), 19.0),\n",
       " (('JUL', 'marseilles'), 21.0),\n",
       " (('JUL', 'lyon'), 19.0),\n",
       " (('JUL', 'anger'), 19.0),\n",
       " (('JAN', 'troyes'), 21.0),\n",
       " (('JAN', 'toulouse'), 12.0),\n",
       " (('JAN', 'rennes'), 19.0),\n",
       " (('JAN', 'paris'), 38.333333333333336),\n",
       " (('JAN', 'orlean'), 13.0),\n",
       " (('JAN', 'nice'), 16.0),\n",
       " (('JAN', 'nantes'), 16.0),\n",
       " (('JAN', 'marseilles'), 16.0),\n",
       " (('JAN', 'lyon'), 13.0),\n",
       " (('JAN', 'anger'), 13.0),\n",
       " (('FEB', 'troyes'), 21.0),\n",
       " (('FEB', 'toulouse'), 13.0),\n",
       " (('FEB', 'rennes'), 18.0),\n",
       " (('FEB', 'paris'), 33.0),\n",
       " (('FEB', 'orlean'), 12.0),\n",
       " (('FEB', 'nice'), 15.0),\n",
       " (('FEB', 'nantes'), 15.0),\n",
       " (('FEB', 'marseilles'), 16.0),\n",
       " (('FEB', 'lyon'), 12.0),\n",
       " (('FEB', 'anger'), 12.0),\n",
       " (('DEC', 'troyes'), 11.0),\n",
       " (('DEC', 'toulouse'), 19.0),\n",
       " (('DEC', 'rennes'), 20.0),\n",
       " (('DEC', 'paris'), 52.666666666666664),\n",
       " (('DEC', 'orlean'), 26.0),\n",
       " (('DEC', 'nice'), 29.0),\n",
       " (('DEC', 'nantes'), 24.0),\n",
       " (('DEC', 'marseilles'), 26.0),\n",
       " (('DEC', 'lyon'), 22.0),\n",
       " (('DEC', 'anger'), 16.0),\n",
       " (('AUG', 'troyes'), 22.0),\n",
       " (('AUG', 'toulouse'), 11.0),\n",
       " (('AUG', 'rennes'), 11.0),\n",
       " (('AUG', 'paris'), 41.666666666666664),\n",
       " (('AUG', 'orlean'), 25.0),\n",
       " (('AUG', 'nice'), 11.0),\n",
       " (('AUG', 'nantes'), 11.0),\n",
       " (('AUG', 'marseilles'), 22.0),\n",
       " (('AUG', 'lyon'), 25.0),\n",
       " (('AUG', 'anger'), 15.0),\n",
       " (('APR', 'troyes'), 17.0),\n",
       " (('APR', 'toulouse'), 11.0),\n",
       " (('APR', 'rennes'), 9.0),\n",
       " (('APR', 'paris'), 38.666666666666664),\n",
       " (('APR', 'orlean'), 15.0),\n",
       " (('APR', 'nice'), 9.0),\n",
       " (('APR', 'nantes'), 12.0),\n",
       " (('APR', 'marseilles'), 22.0),\n",
       " (('APR', 'lyon'), 15.0),\n",
       " (('APR', 'anger'), 15.0)]"
      ]
     },
     "execution_count": 82,
     "metadata": {},
     "output_type": "execute_result"
    }
   ],
   "source": [
    "#Average monthly income of the shop in each city***\n",
    "amc1 = (rdd\n",
    "        .map(lambda x : [(x[1], x[3]) , float(x[2])])\n",
    "        .aggregateByKey((0,0), lambda a,b: (a[0] + b,a[1] + 1), lambda a,b: (a[0] + b[0], a[1] + b[1]))\n",
    "        .mapValues(lambda x : (x[0] / float(x[1])))\n",
    "       )\n",
    "\n",
    "amc1.sortByKey(False, 2).collect()"
   ]
  },
  {
   "cell_type": "markdown",
   "metadata": {},
   "source": [
    "### 2.3 Total revenue per city per year"
   ]
  },
  {
   "cell_type": "code",
   "execution_count": 77,
   "metadata": {
    "collapsed": false
   },
   "outputs": [
    {
     "data": {
      "text/plain": [
       "[('paris', 1568),\n",
       " ('anger', 166),\n",
       " ('toulouse', 177),\n",
       " ('nice', 203),\n",
       " ('nantes', 207),\n",
       " ('lyon', 193),\n",
       " ('marseilles', 515),\n",
       " ('orlean', 196),\n",
       " ('troyes', 214),\n",
       " ('rennes', 180)]"
      ]
     },
     "execution_count": 77,
     "metadata": {},
     "output_type": "execute_result"
    }
   ],
   "source": [
    "#TOTAL REVENUE PER CITY PAR YEAR\n",
    "trc = (rdd\n",
    "       .map(lambda x : [x[3],int(x[2])])\n",
    "       .reduceByKey(lambda x,y : (x+y))\n",
    "       )\n",
    "       \n",
    "trc.collect()"
   ]
  },
  {
   "cell_type": "markdown",
   "metadata": {},
   "source": [
    "### 2.4 Total revenue per store per year"
   ]
  },
  {
   "cell_type": "code",
   "execution_count": 78,
   "metadata": {
    "collapsed": false
   },
   "outputs": [
    {
     "data": {
      "text/plain": [
       "[('rennes_1', 180),\n",
       " ('orlean_1', 196),\n",
       " ('paris_2', 642),\n",
       " ('lyon_1', 193),\n",
       " ('paris_3', 330),\n",
       " ('marseilles_2', 231),\n",
       " ('troyes_1', 214),\n",
       " ('nice_1', 203),\n",
       " ('toulouse_1', 177),\n",
       " ('marseilles_1', 284),\n",
       " ('anger_1', 166),\n",
       " ('paris_1', 596),\n",
       " ('nantes_1', 207)]"
      ]
     },
     "execution_count": 78,
     "metadata": {},
     "output_type": "execute_result"
    }
   ],
   "source": [
    "#TOTAL REVENUE PER STORE PAR YEAR\n",
    "\n",
    "trsy = (rdd\n",
    "      .map(lambda x : [x[0],int(x[2])])\n",
    "      .reduceByKey(lambda x,y : (x+y))\n",
    "     )\n",
    "     \n",
    "trsy.collect()"
   ]
  },
  {
   "cell_type": "markdown",
   "metadata": {},
   "source": [
    "### 2.5 The store that achieves the best performance in each month"
   ]
  },
  {
   "cell_type": "code",
   "execution_count": 79,
   "metadata": {
    "collapsed": false
   },
   "outputs": [
    {
     "data": {
      "text/plain": [
       "[['MAR', 'paris_2'],\n",
       " ['SEP', 'paris_2'],\n",
       " ['JUN', 'paris_2'],\n",
       " ['FEB', 'paris_2'],\n",
       " ['OCT', 'paris_1'],\n",
       " ['JUL', 'paris_1'],\n",
       " ['MAY', 'paris_2'],\n",
       " ['NOV', 'paris_2'],\n",
       " ['AUG', 'paris_2'],\n",
       " ['JAN', 'paris_1'],\n",
       " ['DEC', 'paris_1'],\n",
       " ['APR', 'paris_1']]"
      ]
     },
     "execution_count": 79,
     "metadata": {},
     "output_type": "execute_result"
    }
   ],
   "source": [
    "#BEST STORE PER MONTH\n",
    "beststorepmonth = (rdd\n",
    "                     .map(lambda x : [x[0],x[1],int(x[2])])\n",
    "                     .map(lambda x: (x[1], x))\n",
    "                     .reduceByKey(lambda x1, x2: max(x1, x2, key=lambda x: x[2])) \n",
    "                     .values()\n",
    "                     .map(lambda x : [x[1],x[0]])\n",
    "                   )\n",
    "     \n",
    "      \n",
    "beststorepmonth.collect()"
   ]
  }
 ],
 "metadata": {
  "anaconda-cloud": {},
  "kernelspec": {
   "display_name": "Python [default]",
   "language": "python",
   "name": "python3"
  },
  "language_info": {
   "codemirror_mode": {
    "name": "ipython",
    "version": 3
   },
   "file_extension": ".py",
   "mimetype": "text/x-python",
   "name": "python",
   "nbconvert_exporter": "python",
   "pygments_lexer": "ipython3",
   "version": "3.5.2"
  }
 },
 "nbformat": 4,
 "nbformat_minor": 1
}
