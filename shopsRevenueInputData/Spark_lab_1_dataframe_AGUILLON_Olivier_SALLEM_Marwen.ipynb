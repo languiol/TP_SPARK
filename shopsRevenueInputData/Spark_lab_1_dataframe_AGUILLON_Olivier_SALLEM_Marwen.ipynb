{
 "cells": [
  {
   "cell_type": "markdown",
   "metadata": {},
   "source": [
    "# DataFrame Creation"
   ]
  },
  {
   "cell_type": "markdown",
   "metadata": {},
   "source": [
    "## Extract link from repository"
   ]
  },
  {
   "cell_type": "markdown",
   "metadata": {},
   "source": [
    "Given the repository \"input1\" which contains all the files, we build a list that contains all the files names. These latter will be useful to build our dataframe since we need the name of each City and the ID of each store."
   ]
  },
  {
   "cell_type": "code",
   "execution_count": 1,
   "metadata": {
    "collapsed": false
   },
   "outputs": [
    {
     "data": {
      "text/plain": [
       "['input1/paris_3.txt',\n",
       " 'input1/paris_1.txt',\n",
       " 'input1/nice.txt',\n",
       " 'input1/lyon.txt',\n",
       " 'input1/toulouse.txt',\n",
       " 'input1/marseilles_1.txt',\n",
       " 'input1/marseilles_2.txt',\n",
       " 'input1/troyes.txt',\n",
       " 'input1/rennes.txt',\n",
       " 'input1/paris_2.txt',\n",
       " 'input1/anger.txt',\n",
       " 'input1/orlean.txt',\n",
       " 'input1/nantes.txt']"
      ]
     },
     "execution_count": 1,
     "metadata": {},
     "output_type": "execute_result"
    }
   ],
   "source": [
    "mypath = 'input1/'\n",
    "from os import listdir\n",
    "from os.path import isfile, join\n",
    "files = [f for f in listdir(mypath) if isfile(join(mypath, f))]\n",
    "link = [mypath+f for f in files]\n",
    "link"
   ]
  },
  {
   "cell_type": "markdown",
   "metadata": {},
   "source": [
    "## Extract City and ID from link\n",
    "\n",
    "In this section, we made a function that takes a link to a file as input and return the correspending City and Store ID.\n",
    "The store ID is the name of the city and the number of the store, if the city has only one store, we shall take City_1 as Store ID."
   ]
  },
  {
   "cell_type": "code",
   "execution_count": 2,
   "metadata": {
    "collapsed": true
   },
   "outputs": [],
   "source": [
    "def extractCityID(link):\n",
    "  # Function that compute the name of the city and its ID given the link \n",
    "  x = link.split('/')\n",
    "  y = x[len(x)-1].split('.')[0] \n",
    "  z = y.split('_')\n",
    "  if (len(z)>1):\n",
    "    City = y.split('_')[0]\n",
    "    ID = y.split('_')[1]\n",
    "    return City, y\n",
    "  else:\n",
    "    City = y.split('_')[0]\n",
    "    return City, y+'_1'"
   ]
  },
  {
   "cell_type": "code",
   "execution_count": 3,
   "metadata": {
    "collapsed": false
   },
   "outputs": [
    {
     "data": {
      "text/plain": [
       "('nice', 'nice_1')"
      ]
     },
     "execution_count": 3,
     "metadata": {},
     "output_type": "execute_result"
    }
   ],
   "source": [
    "extractCityID(link[2])"
   ]
  },
  {
   "cell_type": "markdown",
   "metadata": {},
   "source": [
    "## Create the data Frame \n",
    "\n",
    "To create the dataframe, we proceed by creating an RDD that contains the requested Rows and then, using an sqlContext, we create our dataframe passing the RDD as input.\n",
    "\n",
    "To do so, we start by intializing four lists. The first one is filled by the city's and store id's using \"extractCityID\" function.\n",
    "The second one accesses to the files to to take out the data. The third split the data into Month's and Revenue's. And the last one uses the latter three to make an RDD that contains Rows as asked in the lab.\n",
    "We used also a temporary RDD to make union of all results after the for loop computation. "
   ]
  },
  {
   "cell_type": "code",
   "execution_count": 4,
   "metadata": {
    "collapsed": false
   },
   "outputs": [],
   "source": [
    "from pyspark.sql import Row\n",
    "\n",
    "cityId = []\n",
    "lines = []\n",
    "parts = []\n",
    "dataF = []\n",
    "cityId.append(extractCityID(link[0]))\n",
    "lines.append(sc.textFile(link[0]))\n",
    "parts.append(lines[0].map(lambda l: l.split(\" \")))\n",
    "dataF.append(parts[0].map(lambda p: Row(ID = cityId[0][1], City = cityId[0][0], Month = p[0], Revenue = int(p[1]))))\n",
    "temp = parts[0].map(lambda p: Row(ID = cityId[0][1], City = cityId[0][0], Month = p[0], Revenue = int(p[1])))\n",
    "\n",
    "dataF[0].take(10)\n",
    "for i in range(1,len(link)):\n",
    "  cityId.append(extractCityID(link[i]))\n",
    "  lines.append(sc.textFile(link[i])) \n",
    "  parts.append(lines[i].map(lambda l: l.split(\" \")))\n",
    "  dataF.append(parts[i].map(lambda p: Row(ID = cityId[i][1], City = cityId[i][0], Month = p[0], Revenue = int(p[1]))))\n",
    "  temp = temp.union(dataF[i])\n",
    "  "
   ]
  },
  {
   "cell_type": "code",
   "execution_count": 5,
   "metadata": {
    "collapsed": false
   },
   "outputs": [
    {
     "name": "stdout",
     "output_type": "stream",
     "text": [
      "+--------+-----+-----+-------+\n",
      "|store_ID| City|Month|Revenue|\n",
      "+--------+-----+-----+-------+\n",
      "| paris_3|paris|  JAN|     21|\n",
      "| paris_3|paris|  FEB|     36|\n",
      "| paris_3|paris|  MAR|     24|\n",
      "| paris_3|paris|  APR|     24|\n",
      "| paris_3|paris|  MAY|     23|\n",
      "| paris_3|paris|  JUN|     25|\n",
      "| paris_3|paris|  JUL|     21|\n",
      "| paris_3|paris|  AUG|     38|\n",
      "| paris_3|paris|  SEP|     38|\n",
      "| paris_3|paris|  OCT|     38|\n",
      "| paris_3|paris|  NOV|     21|\n",
      "| paris_3|paris|  DEC|     21|\n",
      "| paris_1|paris|  JAN|     51|\n",
      "| paris_1|paris|  FEB|     21|\n",
      "| paris_1|paris|  MAR|     11|\n",
      "| paris_1|paris|  APR|     57|\n",
      "| paris_1|paris|  MAY|     55|\n",
      "| paris_1|paris|  JUN|     55|\n",
      "| paris_1|paris|  JUL|     61|\n",
      "| paris_1|paris|  AUG|     42|\n",
      "+--------+-----+-----+-------+\n",
      "only showing top 20 rows\n",
      "\n"
     ]
    }
   ],
   "source": [
    "from pyspark.sql import SQLContext\n",
    "sqlContext = SQLContext(sc)\n",
    "\n",
    "df = sqlContext.createDataFrame(temp.map(lambda x: [x[1],x[0],x[2],x[3]]), \n",
    "                                schema=['store_ID', 'City', 'Month', 'Revenue'])    \n",
    "df.show()"
   ]
  },
  {
   "cell_type": "markdown",
   "metadata": {},
   "source": [
    "# Average monthly income of the shop in France\n",
    "\n",
    "The average monthly income of the shop in Frane is obtained by grouping on the \"Month\" by taking the averag of \"Revenue\"."
   ]
  },
  {
   "cell_type": "code",
   "execution_count": 24,
   "metadata": {
    "collapsed": false
   },
   "outputs": [
    {
     "name": "stdout",
     "output_type": "stream",
     "text": [
      "+-----+------------------+\n",
      "|Month|      avg(Revenue)|\n",
      "+-----+------------------+\n",
      "|  MAR| 17.53846153846154|\n",
      "|  FEB|19.153846153846153|\n",
      "|  APR| 20.23076923076923|\n",
      "|  JAN| 20.76923076923077|\n",
      "|  JUL|21.692307692307693|\n",
      "|  MAY| 22.46153846153846|\n",
      "|  AUG|23.076923076923077|\n",
      "|  NOV| 24.53846153846154|\n",
      "|  SEP| 25.53846153846154|\n",
      "|  OCT| 26.53846153846154|\n",
      "|  JUN|27.846153846153847|\n",
      "|  DEC|              29.0|\n",
      "+-----+------------------+\n",
      "\n"
     ]
    }
   ],
   "source": [
    "amsf = (df\n",
    "        .groupBy(\"Month\")\n",
    "        .avg(\"Revenue\")\n",
    "        .orderBy(\"avg(Revenue)\"))\n",
    "  \n",
    "amsf.show()\n"
   ]
  },
  {
   "cell_type": "markdown",
   "metadata": {},
   "source": [
    "# Average monthly income of the shop in each city\n",
    "\n",
    "Same request as the previous but we have to group by the \"City\" in addition to the \"Month\""
   ]
  },
  {
   "cell_type": "code",
   "execution_count": 25,
   "metadata": {
    "collapsed": false
   },
   "outputs": [
    {
     "name": "stdout",
     "output_type": "stream",
     "text": [
      "+-----+-----+------------+\n",
      "| City|Month|avg(Revenue)|\n",
      "+-----+-----+------------+\n",
      "|anger|  DEC|        16.0|\n",
      "|anger|  MAY|        12.0|\n",
      "|anger|  OCT|         8.0|\n",
      "|anger|  NOV|        14.0|\n",
      "|anger|  JUN|        15.0|\n",
      "|anger|  MAR|        14.0|\n",
      "|anger|  JUL|        19.0|\n",
      "|anger|  FEB|        12.0|\n",
      "|anger|  APR|        15.0|\n",
      "|anger|  AUG|        15.0|\n",
      "|anger|  JAN|        13.0|\n",
      "|anger|  SEP|        13.0|\n",
      "| lyon|  OCT|        11.0|\n",
      "| lyon|  FEB|        12.0|\n",
      "| lyon|  AUG|        25.0|\n",
      "| lyon|  MAR|        14.0|\n",
      "| lyon|  MAY|        12.0|\n",
      "| lyon|  JAN|        13.0|\n",
      "| lyon|  NOV|        22.0|\n",
      "| lyon|  DEC|        22.0|\n",
      "+-----+-----+------------+\n",
      "only showing top 20 rows\n",
      "\n"
     ]
    }
   ],
   "source": [
    "amsc = (df\n",
    "        .groupBy(\"City\", \"Month\")\n",
    "        .mean())\n",
    "\n",
    "amsc.orderBy(\"City\").show()"
   ]
  },
  {
   "cell_type": "markdown",
   "metadata": {},
   "source": [
    "# Total revenue per city per year\n",
    "\n",
    "The total revenue per city per year is obtained by grouping over \"City\" and taking the sum of \"Revenue\""
   ]
  },
  {
   "cell_type": "code",
   "execution_count": 14,
   "metadata": {
    "collapsed": false
   },
   "outputs": [
    {
     "name": "stdout",
     "output_type": "stream",
     "text": [
      "+----------+------------+\n",
      "|      City|sum(Revenue)|\n",
      "+----------+------------+\n",
      "|    nantes|         207|\n",
      "|marseilles|         515|\n",
      "|  toulouse|         177|\n",
      "|     anger|         166|\n",
      "|    orlean|         196|\n",
      "|     paris|        1568|\n",
      "|      lyon|         193|\n",
      "|    rennes|         180|\n",
      "|      nice|         203|\n",
      "|    troyes|         214|\n",
      "+----------+------------+\n",
      "\n"
     ]
    }
   ],
   "source": [
    "trcy = (df\n",
    "        .groupBy(\"City\")\n",
    "        .sum())\n",
    "\n",
    "trcy.show()"
   ]
  },
  {
   "cell_type": "markdown",
   "metadata": {},
   "source": [
    "# Total revenue per store per year\n",
    "\n",
    "Same as before but we have to group by the \"store_ID\" instead of grouping by the \"City\"."
   ]
  },
  {
   "cell_type": "code",
   "execution_count": 16,
   "metadata": {
    "collapsed": false
   },
   "outputs": [
    {
     "name": "stdout",
     "output_type": "stream",
     "text": [
      "+------------+------------+\n",
      "|    store_ID|sum(Revenue)|\n",
      "+------------+------------+\n",
      "|     anger_1|         166|\n",
      "|  toulouse_1|         177|\n",
      "|    rennes_1|         180|\n",
      "|      lyon_1|         193|\n",
      "|    orlean_1|         196|\n",
      "|      nice_1|         203|\n",
      "|    nantes_1|         207|\n",
      "|    troyes_1|         214|\n",
      "|marseilles_2|         231|\n",
      "|marseilles_1|         284|\n",
      "|     paris_3|         330|\n",
      "|     paris_1|         596|\n",
      "|     paris_2|         642|\n",
      "+------------+------------+\n",
      "\n"
     ]
    }
   ],
   "source": [
    "trsy = (df\n",
    "        .groupBy(\"store_ID\")\n",
    "        .sum())\n",
    "\n",
    "trsy.orderBy(\"sum(Revenue)\").show()"
   ]
  },
  {
   "cell_type": "markdown",
   "metadata": {},
   "source": [
    "# The store that achieves the best performance in each month\n",
    "\n",
    "Computing the store that achives the best performance in each month is not obvious as the latters. \n",
    "In fact, we have to proceed by doing some request before operating on the dataframe.\n",
    "\n",
    "We firstly compute a new dataframe that contains only \"Month\" and the maximumof \"Revenue\""
   ]
  },
  {
   "cell_type": "code",
   "execution_count": 19,
   "metadata": {
    "collapsed": false
   },
   "outputs": [
    {
     "name": "stdout",
     "output_type": "stream",
     "text": [
      "+-----+------------+\n",
      "|Month|max(Revenue)|\n",
      "+-----+------------+\n",
      "|  FEB|          42|\n",
      "|  OCT|          68|\n",
      "|  NOV|          64|\n",
      "|  MAR|          44|\n",
      "|  MAY|          72|\n",
      "|  DEC|          71|\n",
      "|  AUG|          45|\n",
      "|  SEP|          63|\n",
      "|  JAN|          51|\n",
      "|  JUL|          61|\n",
      "|  APR|          57|\n",
      "|  JUN|          85|\n",
      "+-----+------------+\n",
      "\n"
     ]
    }
   ],
   "source": [
    "df2 = (df\n",
    "       .select(\"Month\",\"Revenue\")\n",
    "       .groupBy(\"Month\")\n",
    "       .max(\"Revenue\"))\n",
    "\n",
    "df2.show()"
   ]
  },
  {
   "cell_type": "markdown",
   "metadata": {},
   "source": [
    "Then we take inner join between our dataframe and the dataframe just created."
   ]
  },
  {
   "cell_type": "code",
   "execution_count": 21,
   "metadata": {
    "collapsed": false
   },
   "outputs": [
    {
     "name": "stdout",
     "output_type": "stream",
     "text": [
      "+------------+----------+-------+-----+------------+\n",
      "|    store_ID|      City|Revenue|Month|max(Revenue)|\n",
      "+------------+----------+-------+-----+------------+\n",
      "|     paris_3|     paris|     36|  FEB|          42|\n",
      "|     paris_1|     paris|     21|  FEB|          42|\n",
      "|      nice_1|      nice|     15|  FEB|          42|\n",
      "|      lyon_1|      lyon|     12|  FEB|          42|\n",
      "|  toulouse_1|  toulouse|     13|  FEB|          42|\n",
      "|marseilles_1|marseilles|     21|  FEB|          42|\n",
      "|marseilles_2|marseilles|     11|  FEB|          42|\n",
      "|    troyes_1|    troyes|     21|  FEB|          42|\n",
      "|    rennes_1|    rennes|     18|  FEB|          42|\n",
      "|     paris_2|     paris|     42|  FEB|          42|\n",
      "|     anger_1|     anger|     12|  FEB|          42|\n",
      "|    orlean_1|    orlean|     12|  FEB|          42|\n",
      "|    nantes_1|    nantes|     15|  FEB|          42|\n",
      "|     paris_3|     paris|     38|  OCT|          68|\n",
      "|     paris_1|     paris|     68|  OCT|          68|\n",
      "|      nice_1|      nice|     18|  OCT|          68|\n",
      "|      lyon_1|      lyon|     11|  OCT|          68|\n",
      "|  toulouse_1|  toulouse|     14|  OCT|          68|\n",
      "|marseilles_1|marseilles|     28|  OCT|          68|\n",
      "|marseilles_2|marseilles|     28|  OCT|          68|\n",
      "+------------+----------+-------+-----+------------+\n",
      "only showing top 20 rows\n",
      "\n"
     ]
    }
   ],
   "source": [
    "dfJoin = (df\n",
    "          .join(df2, df.Month == df2.Month, 'inner')\n",
    "          .drop(df.Month))\n",
    "\n",
    "dfJoin.show()"
   ]
  },
  {
   "cell_type": "markdown",
   "metadata": {},
   "source": [
    "Now we have a dataframe that contains the previous dataframe with a newcolumn that contains the maximum of \"Revenue\".\n",
    "\n",
    "Obviously, the result that we seek is just the \"Month\" and the \"store_ID\" when the \"Revenue\" is equal to the maximum of the \"Revenue\""
   ]
  },
  {
   "cell_type": "code",
   "execution_count": 22,
   "metadata": {
    "collapsed": false
   },
   "outputs": [
    {
     "name": "stdout",
     "output_type": "stream",
     "text": [
      "+--------+-----+-------+-----+-------+\n",
      "|store_ID| City|Revenue|Month|Maximum|\n",
      "+--------+-----+-------+-----+-------+\n",
      "| paris_2|paris|     72|  MAY|     72|\n",
      "| paris_2|paris|     85|  JUN|     85|\n",
      "| paris_1|paris|     71|  DEC|     71|\n",
      "| paris_1|paris|     68|  OCT|     68|\n",
      "| paris_2|paris|     42|  FEB|     42|\n",
      "| paris_2|paris|     45|  AUG|     45|\n",
      "| paris_2|paris|     64|  NOV|     64|\n",
      "| paris_1|paris|     61|  JUL|     61|\n",
      "| paris_1|paris|     51|  JAN|     51|\n",
      "| paris_2|paris|     63|  SEP|     63|\n",
      "| paris_2|paris|     44|  MAR|     44|\n",
      "| paris_1|paris|     57|  APR|     57|\n",
      "+--------+-----+-------+-----+-------+\n",
      "\n"
     ]
    }
   ],
   "source": [
    "dfRes = (dfJoin\n",
    "         .withColumnRenamed(\"max(Revenue)\", \"Maximum\")\n",
    "         .filter(\"Revenue = Maximum\"))\n",
    "dfRes.show()"
   ]
  },
  {
   "cell_type": "markdown",
   "metadata": {},
   "source": [
    "To do so, we changed the name of the last column to make the request easier, and we filtered the dataframe over the condition \"Revenue\" = \"Maximum\"\n",
    "\n",
    "And hence, the result is just the selection of the \"Month\" and the \"store_ID\""
   ]
  },
  {
   "cell_type": "code",
   "execution_count": 23,
   "metadata": {
    "collapsed": false
   },
   "outputs": [
    {
     "name": "stdout",
     "output_type": "stream",
     "text": [
      "+-----+--------+\n",
      "|Month|store_ID|\n",
      "+-----+--------+\n",
      "|  MAY| paris_2|\n",
      "|  JUN| paris_2|\n",
      "|  DEC| paris_1|\n",
      "|  OCT| paris_1|\n",
      "|  FEB| paris_2|\n",
      "|  AUG| paris_2|\n",
      "|  NOV| paris_2|\n",
      "|  JUL| paris_1|\n",
      "|  JAN| paris_1|\n",
      "|  SEP| paris_2|\n",
      "|  MAR| paris_2|\n",
      "|  APR| paris_1|\n",
      "+-----+--------+\n",
      "\n"
     ]
    }
   ],
   "source": [
    "sabp = (dfRes\n",
    "        .select(\"Month\", \"store_ID\"))\n",
    "\n",
    "sabp.show()"
   ]
  }
 ],
 "metadata": {
  "anaconda-cloud": {},
  "kernelspec": {
   "display_name": "Python [conda root]",
   "language": "python",
   "name": "conda-root-py"
  },
  "language_info": {
   "codemirror_mode": {
    "name": "ipython",
    "version": 3
   },
   "file_extension": ".py",
   "mimetype": "text/x-python",
   "name": "python",
   "nbconvert_exporter": "python",
   "pygments_lexer": "ipython3",
   "version": "3.5.2"
  }
 },
 "nbformat": 4,
 "nbformat_minor": 1
}
